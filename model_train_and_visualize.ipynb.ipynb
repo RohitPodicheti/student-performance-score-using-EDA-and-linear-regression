{
  "nbformat": 4,
  "nbformat_minor": 0,
  "metadata": {
    "colab": {
      "private_outputs": true,
      "provenance": []
    },
    "kernelspec": {
      "name": "python3",
      "display_name": "Python 3"
    },
    "language_info": {
      "name": "python"
    }
  },
  "cells": [
    {
      "cell_type": "markdown",
      "source": [],
      "metadata": {
        "id": "JJKqgxL-wGfz"
      }
    },
    {
      "cell_type": "markdown",
      "source": [
        "***model training import all the required packges***"
      ],
      "metadata": {
        "id": "MYWrCvezwI5Q"
      }
    },
    {
      "cell_type": "code",
      "source": [
        "import numpy as np\n",
        "import pandas as pd\n",
        "import matplotlib.pyplot as plt\n",
        "import seaborn as sns"
      ],
      "metadata": {
        "id": "5t7WvyLKwsRl"
      },
      "execution_count": null,
      "outputs": []
    },
    {
      "cell_type": "markdown",
      "source": [
        "**import the data set ** ."
      ],
      "metadata": {
        "id": "i3qYgv60xBll"
      }
    },
    {
      "cell_type": "code",
      "source": [
        "df=pd.read_csv(\"/content/archive (3).zip\")\n",
        "df.head()"
      ],
      "metadata": {
        "id": "RwOXpD4txIkC"
      },
      "execution_count": null,
      "outputs": []
    },
    {
      "cell_type": "code",
      "source": [
        "df.tail()"
      ],
      "metadata": {
        "id": "a9tNXmYAxsRe"
      },
      "execution_count": null,
      "outputs": []
    },
    {
      "cell_type": "markdown",
      "source": [
        "**data set information -gender\trace/ethnicity\t--parental level of -education\tlunch\ttest -preparation course\tmath -score\treading score\t-writing**"
      ],
      "metadata": {
        "id": "J9xplSEJyQOB"
      }
    },
    {
      "cell_type": "code",
      "source": [
        "df.info()"
      ],
      "metadata": {
        "id": "vYpKBCxnxvbh"
      },
      "execution_count": null,
      "outputs": []
    },
    {
      "cell_type": "code",
      "source": [
        "df.shape"
      ],
      "metadata": {
        "id": "kLTL8CGWxy-7"
      },
      "execution_count": null,
      "outputs": []
    },
    {
      "cell_type": "markdown",
      "source": [
        " **DATA CHECKS TO BE PERFORMED **\n",
        " -CHECK MISSING VAKUES\n",
        " -CHECK DUPLICATES\n",
        " -CHECK THE UNIQUE VALUES\n",
        " -CHECK STATISTICS OF DATA SET\n",
        "\n",
        "\n",
        ""
      ],
      "metadata": {
        "id": "7yBwrVpXyw57"
      }
    },
    {
      "cell_type": "code",
      "source": [
        "df.isnull().sum()"
      ],
      "metadata": {
        "id": "lzcQ-8evyBQg"
      },
      "execution_count": null,
      "outputs": []
    },
    {
      "cell_type": "code",
      "source": [
        "df.duplicated().sum()"
      ],
      "metadata": {
        "id": "hkksdfb3zWLy"
      },
      "execution_count": null,
      "outputs": []
    },
    {
      "cell_type": "code",
      "source": [
        "df.info()"
      ],
      "metadata": {
        "id": "AHCZ_p2Bza8c"
      },
      "execution_count": null,
      "outputs": []
    },
    {
      "cell_type": "code",
      "source": [
        "df.nunique()"
      ],
      "metadata": {
        "id": "JabMXM_Yzp6x"
      },
      "execution_count": null,
      "outputs": []
    },
    {
      "cell_type": "code",
      "source": [
        "df.describe()"
      ],
      "metadata": {
        "id": "YzcOTHB5zy-0"
      },
      "execution_count": null,
      "outputs": []
    },
    {
      "cell_type": "markdown",
      "source": [
        "**EXPLORING THE DATA\n",
        "**"
      ],
      "metadata": {
        "id": "tYnGhvTa1AFC"
      }
    },
    {
      "cell_type": "code",
      "source": [
        "print('catogeries of ',df['gender'].unique())\n",
        "print('catogeries of ',df['race/ethnicity'].unique())\n",
        "print('catogeries of ',df['parental level of education'].unique())\n",
        "print('catogeries of ',df['lunch'].unique())"
      ],
      "metadata": {
        "id": "y-qIGyiI0igE"
      },
      "execution_count": null,
      "outputs": []
    },
    {
      "cell_type": "code",
      "source": [
        "df.head(2)"
      ],
      "metadata": {
        "id": "JJAD0RoG08e0"
      },
      "execution_count": null,
      "outputs": []
    },
    {
      "cell_type": "markdown",
      "source": [
        "ADDING COLUMNS FOR 'TOTAL SCORE ' AND 'AVERAGE'"
      ],
      "metadata": {
        "id": "k03rYNbP2NFd"
      }
    },
    {
      "cell_type": "code",
      "source": [
        "df['total score']=df['math score']+df['reading score']+df['writing score']\n",
        "df['average']=df['total score']/3\n",
        "df.head()"
      ],
      "metadata": {
        "id": "w2C4oP2f2KKf"
      },
      "execution_count": null,
      "outputs": []
    },
    {
      "cell_type": "markdown",
      "source": [
        "**DATA VISUALIZATION**"
      ],
      "metadata": {
        "id": "oxVP-ec53ndr"
      }
    },
    {
      "cell_type": "code",
      "source": [
        "\n",
        "sns.histplot(df['average'],bins=30,kde=True,color='red')\n",
        "\n"
      ],
      "metadata": {
        "id": "M9XrvNoX33u8"
      },
      "execution_count": null,
      "outputs": []
    },
    {
      "cell_type": "code",
      "source": [
        "\n",
        "sns.histplot(df['gender'],bins=30,kde=True,color='red')\n",
        "plt.legend()\n",
        "plt.show()\n",
        "\n",
        "\n"
      ],
      "metadata": {
        "id": "dAiWcvkW6b2q"
      },
      "execution_count": null,
      "outputs": []
    },
    {
      "cell_type": "code",
      "source": [
        "import pandas as pd\n",
        "import numpy as np\n",
        "from sklearn.model_selection import train_test_split\n",
        "from sklearn.linear_model import LinearRegression\n",
        "from sklearn.preprocessing import OneHotEncoder\n",
        "from sklearn.compose import ColumnTransformer\n",
        "from sklearn.pipeline import Pipeline\n",
        "from sklearn.metrics import r2_score, mean_squared_error\n",
        "\n",
        "# Load dataset\n",
        "df = pd.read_csv(\"/content/archive (3).zip\")\n",
        "\n",
        "# Define features and target\n",
        "X = df.drop(columns=['math score'])\n",
        "y = df['math score']\n",
        "y\n",
        "\n",
        "# Identify categorical columns\n",
        "categorical_cols = X.select_dtypes(include=['object']).columns.tolist()\n",
        "\n",
        "# Create preprocessing pipeline for categorical features\n",
        "preprocessor = ColumnTransformer(\n",
        "    transformers=[\n",
        "        ('cat', OneHotEncoder(handle_unknown='ignore'), categorical_cols)\n",
        "    ]\n",
        ")\n",
        "\n",
        "# Create a Linear Regression pipeline\n",
        "model = Pipeline(steps=[\n",
        "    ('preprocessor', preprocessor),\n",
        "    ('regressor', LinearRegression())\n",
        "])\n",
        "\n",
        "# Split data into train and test sets\n",
        "X_train, X_test, y_train, y_test = train_test_split(X, y, test_size=0.2, random_state=42)\n",
        "\n",
        "# Train the model\n",
        "model.fit(X_train, y_train)\n",
        "\n",
        "# Make predictions\n",
        "y_pred = model.predict(X_test)\n",
        "\n",
        "# Evaluate the model\n",
        "r2 = r2_score(y_test, y_pred)\n",
        "rmse = np.sqrt(mean_squared_error(y_test, y_pred))\n",
        "\n",
        "print(f\"R² Score: {r2:.3f}\")\n",
        "print(f\"RMSE: {rmse:.2f}\")\n"
      ],
      "metadata": {
        "id": "g3rc50TJ-Kf_"
      },
      "execution_count": null,
      "outputs": []
    },
    {
      "cell_type": "code",
      "source": [
        "import matplotlib.pyplot as plt\n",
        "import seaborn as sns\n",
        "\n",
        "# Set seaborn style\n",
        "sns.set(style=\"whitegrid\")\n",
        "\n",
        "# Plot actual vs predicted\n",
        "plt.figure(figsize=(8, 6))\n",
        "sns.scatterplot(x=y_test, y=y_pred, alpha=0.6, color=\"blue\", label=\"Predicted vs Actual\")\n",
        "sns.lineplot(x=y_test, y=y_test, color=\"red\", label=\"Ideal Fit\")\n",
        "\n",
        "# Labeling\n",
        "plt.title(\"Actual vs Predicted Math Scores\")\n",
        "plt.xlabel(\"Actual Math Score\")\n",
        "plt.ylabel(\"Predicted Math Score\")\n",
        "plt.legend()\n",
        "plt.tight_layout()\n",
        "plt.show()\n"
      ],
      "metadata": {
        "id": "qOpUusFHJMe1"
      },
      "execution_count": null,
      "outputs": []
    },
    {
      "cell_type": "code",
      "source": [],
      "metadata": {
        "id": "vj4In4i-KnUm"
      },
      "execution_count": null,
      "outputs": []
    }
  ]
}